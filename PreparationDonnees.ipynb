{
 "cells": [
  {
   "cell_type": "markdown",
   "metadata": {},
   "source": [
    "# Préparation des Données"
   ]
  },
  {
   "cell_type": "markdown",
   "metadata": {},
   "source": [
    "## Imports"
   ]
  },
  {
   "cell_type": "code",
   "execution_count": 36,
   "metadata": {},
   "outputs": [],
   "source": [
    "import pandas as pd\n",
    "import numpy as np\n",
    "import plotly.express as px\n",
    "import matplotlib.pyplot as plt"
   ]
  },
  {
   "cell_type": "markdown",
   "metadata": {},
   "source": [
    "## Netoyage des données"
   ]
  },
  {
   "cell_type": "code",
   "execution_count": 37,
   "metadata": {},
   "outputs": [
    {
     "name": "stdout",
     "output_type": "stream",
     "text": [
      "2019\n",
      "2020\n"
     ]
    }
   ],
   "source": [
    "dfList = []\n",
    "for an in range(2019, 2021) :\n",
    "    # Lecture datasets\n",
    "    print(an)\n",
    "    df1 = pd.read_csv(\"data/usagers-\"+ str(an) +\".csv\", sep=';')\n",
    "    df2 = pd.read_csv(\"data/lieux-\"+ str(an) +\".csv\", sep=';')\n",
    "    df3 = pd.read_csv(\"data/caracteristiques-\" + str(an) + \".csv\", sep=';', encoding='ISO-8859-1')\n",
    "    df4 = pd.read_csv(\"data/vehicules-\"+ str(an) +\".csv\", sep=';')\n",
    "\n",
    "    df4 = df4.drop(columns=['id_vehicule', 'num_veh'])\n",
    "\n",
    "\n",
    "    df = df1.join(df2.set_index('Num_Acc'), on='Num_Acc')\n",
    "    df = df.join(df3.set_index('Num_Acc'), on='Num_Acc')\n",
    "    df = df.join(df4.set_index('Num_Acc'), on='Num_Acc', lsuffix='_')\n",
    "\n",
    "    allColumns = list(df.columns)\n",
    "    allColumns.remove('Num_Acc')\n",
    "    allColumns.remove('atm')\n",
    "    allColumns.remove('lat')\n",
    "    allColumns.remove('long')\n",
    "    allColumns.remove('vma')\n",
    "    allColumns.remove('grav')\n",
    "    allColumns.remove('com')\n",
    "    allColumns.remove('dep')\n",
    "    allColumns.remove('lum')\n",
    "    allColumns.remove('an')\n",
    "    allColumns.remove('jour')\n",
    "    allColumns.remove('mois')\n",
    "    allColumns.remove('agg')\n",
    "    allColumns.remove('adr')\n",
    "    allColumns.remove('id_vehicule')\n",
    "    allColumns.remove('place')\n",
    "    len(allColumns)\n",
    "\n",
    "    # Suppression colonnes inutiles\n",
    "    df = df.drop(columns=allColumns)\n",
    "\n",
    "    # retire les doublons dans les usagers\n",
    "    df = df.drop_duplicates(subset=['id_vehicule', 'place'], keep='first')\n",
    "\n",
    "\n",
    "    dfList.append(df[df['grav'] == 2])\n",
    "\n",
    "\n",
    "\n"
   ]
  },
  {
   "cell_type": "code",
   "execution_count": 38,
   "metadata": {},
   "outputs": [
    {
     "name": "stdout",
     "output_type": "stream",
     "text": [
      "2021\n",
      "2022\n"
     ]
    },
    {
     "name": "stderr",
     "output_type": "stream",
     "text": [
      "C:\\Users\\Yannis\\AppData\\Local\\Temp\\ipykernel_30848\\3588766275.py:5: DtypeWarning: Columns (6) have mixed types. Specify dtype option on import or set low_memory=False.\n",
      "  df2 = pd.read_csv(\"data/lieux-\"+ str(an) +\".csv\", sep=';')\n"
     ]
    }
   ],
   "source": [
    "for an in range(2021, 2023) :\n",
    "    # Lecture datasets\n",
    "    print(an)\n",
    "    df1 = pd.read_csv(\"data/usagers-\"+ str(an) +\".csv\", sep=';')\n",
    "    df2 = pd.read_csv(\"data/lieux-\"+ str(an) +\".csv\", sep=';')\n",
    "    df3 = pd.read_csv(\"data/caracteristiques-\" + str(an) + \".csv\", sep=';', encoding='ISO-8859-1')\n",
    "    df4 = pd.read_csv(\"data/vehicules-\"+ str(an) +\".csv\", sep=';')\n",
    "\n",
    "    df4 = df4.drop(columns=['id_vehicule', 'num_veh'])\n",
    "\n",
    "    df = df1.join(df2.set_index('Num_Acc'), on='Num_Acc')\n",
    "    df = df.join(df3.set_index('Num_Acc'), on='Num_Acc')\n",
    "    df = df.join(df4.set_index('Num_Acc'), on='Num_Acc', lsuffix='_')\n",
    "\n",
    "    allColumns = list(df.columns)\n",
    "    allColumns.remove('Num_Acc')\n",
    "    allColumns.remove('atm')\n",
    "    allColumns.remove('lat')\n",
    "    allColumns.remove('long')\n",
    "    allColumns.remove('vma')\n",
    "    allColumns.remove('grav')\n",
    "    allColumns.remove('com')\n",
    "    allColumns.remove('dep')\n",
    "    allColumns.remove('lum')\n",
    "    allColumns.remove('an')\n",
    "    allColumns.remove('jour')\n",
    "    allColumns.remove('mois')\n",
    "    allColumns.remove('agg')\n",
    "    allColumns.remove('adr')\n",
    "    allColumns.remove('id_usager')\n",
    "\n",
    "    len(allColumns)\n",
    "\n",
    "    # Suppression colonnes inutiles\n",
    "    df = df.drop(columns=allColumns)\n",
    "\n",
    "    # retire les doublons dans les usagers\n",
    "    df = df.drop_duplicates(subset=['id_usager'], keep='first')\n",
    "\n",
    "\n",
    "    dfList.append(df[df['grav'] == 2])"
   ]
  },
  {
   "cell_type": "code",
   "execution_count": 39,
   "metadata": {},
   "outputs": [],
   "source": [
    "df= pd.concat(dfList, ignore_index=True)\n",
    "df = df.drop(columns=['id_vehicule', 'place', 'id_usager', 'grav'])\n",
    "#df"
   ]
  },
  {
   "cell_type": "markdown",
   "metadata": {},
   "source": [
    "Transformation des **mois**"
   ]
  },
  {
   "cell_type": "code",
   "execution_count": 40,
   "metadata": {},
   "outputs": [],
   "source": [
    "mois_dict = {\n",
    "    1: 'Janvier', 2: 'Fevrier', 3: 'Mars', 4: 'Avril', 5: 'Mai', 6: 'Juin',\n",
    "    7: 'Juillet', 8: 'Aout', 9: 'Septembre', 10: 'Octobre', 11: 'Novembre', 12: 'Decembre'\n",
    "}\n",
    "\n",
    "df['mois'] = df['mois'].map(mois_dict)"
   ]
  },
  {
   "cell_type": "markdown",
   "metadata": {},
   "source": [
    "Transformation des **lum**"
   ]
  },
  {
   "cell_type": "code",
   "execution_count": 41,
   "metadata": {},
   "outputs": [],
   "source": [
    "lum_dict = {\n",
    "    1: \"Plein jour\", 2: \"Crepuscule ou Aube\",\n",
    "    3: \"Nuit sans eclairage public\", \n",
    "    4: \"Nuit avec eclairage public non allume\", \n",
    "    5: \"Nuit avec eclairage public allume\"\n",
    "}\n",
    "df['lum'] = df['lum'].map(lum_dict)"
   ]
  },
  {
   "cell_type": "markdown",
   "metadata": {},
   "source": [
    "Transformation des **agg**"
   ]
  },
  {
   "cell_type": "code",
   "execution_count": 42,
   "metadata": {},
   "outputs": [],
   "source": [
    "agg_dict = {\n",
    "    1: \"Hors aglomeration\", 2: \"En aglomeration\"\n",
    "}\n",
    "df['agg'] = df['agg'].map(agg_dict)"
   ]
  },
  {
   "cell_type": "markdown",
   "metadata": {},
   "source": [
    "Transformation des **atm**"
   ]
  },
  {
   "cell_type": "code",
   "execution_count": 43,
   "metadata": {},
   "outputs": [],
   "source": [
    "atm_dict = {\n",
    "    1: \"Normale\", 2: \"Pluie legere\", 3: \"Pluie forte\", 4: \"Neige ou grele\",\n",
    "    5: \"Brouillard ou fumee\", 6: \"Vent fort ou tempete\", 7: \"Temps eblouissant\",\n",
    "    8: \"Temps couvert\", 9: \"Autre\"\n",
    "}\n",
    "df['atm'] = df['atm'].map(atm_dict)"
   ]
  },
  {
   "cell_type": "markdown",
   "metadata": {},
   "source": [
    "Renommage des **colonnes**"
   ]
  },
  {
   "cell_type": "code",
   "execution_count": 44,
   "metadata": {},
   "outputs": [],
   "source": [
    "df = df.rename(columns={'com': 'Commune', 'vma': 'Vitesse_Maximale_Autorisee', 'lum' : 'Luminosite', 'dep':\"Departement\", 'agg' : 'Agglomeration', \n",
    "                        'atm': 'Connition_Atmospheriques', 'adr': 'adresse', 'lat': 'Latitude', 'long': 'Longitude', 'Num_Acc': 'Identifiant_Accident', 'an': 'Annee'})"
   ]
  },
  {
   "cell_type": "code",
   "execution_count": 45,
   "metadata": {},
   "outputs": [
    {
     "data": {
      "text/html": [
       "<div>\n",
       "<style scoped>\n",
       "    .dataframe tbody tr th:only-of-type {\n",
       "        vertical-align: middle;\n",
       "    }\n",
       "\n",
       "    .dataframe tbody tr th {\n",
       "        vertical-align: top;\n",
       "    }\n",
       "\n",
       "    .dataframe thead th {\n",
       "        text-align: right;\n",
       "    }\n",
       "</style>\n",
       "<table border=\"1\" class=\"dataframe\">\n",
       "  <thead>\n",
       "    <tr style=\"text-align: right;\">\n",
       "      <th></th>\n",
       "      <th>Identifiant_Accident</th>\n",
       "      <th>Vitesse_Maximale_Autorisee</th>\n",
       "      <th>jour</th>\n",
       "      <th>mois</th>\n",
       "      <th>Annee</th>\n",
       "      <th>Luminosite</th>\n",
       "      <th>Departement</th>\n",
       "      <th>Commune</th>\n",
       "      <th>Agglomeration</th>\n",
       "      <th>Connition_Atmospheriques</th>\n",
       "      <th>adresse</th>\n",
       "      <th>Latitude</th>\n",
       "      <th>Longitude</th>\n",
       "    </tr>\n",
       "  </thead>\n",
       "  <tbody>\n",
       "    <tr>\n",
       "      <th>0</th>\n",
       "      <td>201900000024</td>\n",
       "      <td>50</td>\n",
       "      <td>29</td>\n",
       "      <td>Novembre</td>\n",
       "      <td>2019</td>\n",
       "      <td>Nuit avec eclairage public allume</td>\n",
       "      <td>91</td>\n",
       "      <td>91477</td>\n",
       "      <td>En aglomeration</td>\n",
       "      <td>Pluie legere</td>\n",
       "      <td>HENRI BARBUSSE (RUE)</td>\n",
       "      <td>48,7188940</td>\n",
       "      <td>2,2606100</td>\n",
       "    </tr>\n",
       "    <tr>\n",
       "      <th>1</th>\n",
       "      <td>201900000048</td>\n",
       "      <td>50</td>\n",
       "      <td>29</td>\n",
       "      <td>Novembre</td>\n",
       "      <td>2019</td>\n",
       "      <td>Crepuscule ou Aube</td>\n",
       "      <td>50</td>\n",
       "      <td>50129</td>\n",
       "      <td>En aglomeration</td>\n",
       "      <td>Normale</td>\n",
       "      <td>CALIGNY (QUAI DE)</td>\n",
       "      <td>49,6398800</td>\n",
       "      <td>-1,6213700</td>\n",
       "    </tr>\n",
       "    <tr>\n",
       "      <th>2</th>\n",
       "      <td>201900000052</td>\n",
       "      <td>50</td>\n",
       "      <td>29</td>\n",
       "      <td>Novembre</td>\n",
       "      <td>2019</td>\n",
       "      <td>Nuit sans eclairage public</td>\n",
       "      <td>38</td>\n",
       "      <td>38179</td>\n",
       "      <td>Hors aglomeration</td>\n",
       "      <td>Pluie forte</td>\n",
       "      <td>Avenue de la Combe</td>\n",
       "      <td>45,1688800</td>\n",
       "      <td>5,7934900</td>\n",
       "    </tr>\n",
       "    <tr>\n",
       "      <th>3</th>\n",
       "      <td>201900000082</td>\n",
       "      <td>80</td>\n",
       "      <td>22</td>\n",
       "      <td>Septembre</td>\n",
       "      <td>2019</td>\n",
       "      <td>Nuit sans eclairage public</td>\n",
       "      <td>74</td>\n",
       "      <td>74145</td>\n",
       "      <td>Hors aglomeration</td>\n",
       "      <td>Normale</td>\n",
       "      <td>Route de la FrontiÃ¨re</td>\n",
       "      <td>46,2154615</td>\n",
       "      <td>6,2770041</td>\n",
       "    </tr>\n",
       "    <tr>\n",
       "      <th>4</th>\n",
       "      <td>201900000122</td>\n",
       "      <td>50</td>\n",
       "      <td>19</td>\n",
       "      <td>Septembre</td>\n",
       "      <td>2019</td>\n",
       "      <td>Crepuscule ou Aube</td>\n",
       "      <td>91</td>\n",
       "      <td>91687</td>\n",
       "      <td>En aglomeration</td>\n",
       "      <td>Normale</td>\n",
       "      <td>GENERAL DE GAULLE (AVENUE DU)</td>\n",
       "      <td>48,6757000</td>\n",
       "      <td>2,3855300</td>\n",
       "    </tr>\n",
       "    <tr>\n",
       "      <th>...</th>\n",
       "      <td>...</td>\n",
       "      <td>...</td>\n",
       "      <td>...</td>\n",
       "      <td>...</td>\n",
       "      <td>...</td>\n",
       "      <td>...</td>\n",
       "      <td>...</td>\n",
       "      <td>...</td>\n",
       "      <td>...</td>\n",
       "      <td>...</td>\n",
       "      <td>...</td>\n",
       "      <td>...</td>\n",
       "      <td>...</td>\n",
       "    </tr>\n",
       "    <tr>\n",
       "      <th>12975</th>\n",
       "      <td>202200055292</td>\n",
       "      <td>50</td>\n",
       "      <td>1</td>\n",
       "      <td>Janvier</td>\n",
       "      <td>2022</td>\n",
       "      <td>Nuit avec eclairage public allume</td>\n",
       "      <td>18</td>\n",
       "      <td>18190</td>\n",
       "      <td>En aglomeration</td>\n",
       "      <td>Normale</td>\n",
       "      <td>7 Route de Vierzon</td>\n",
       "      <td>47,1352500000</td>\n",
       "      <td>2,1552140000</td>\n",
       "    </tr>\n",
       "    <tr>\n",
       "      <th>12976</th>\n",
       "      <td>202200055295</td>\n",
       "      <td>110</td>\n",
       "      <td>2</td>\n",
       "      <td>Janvier</td>\n",
       "      <td>2022</td>\n",
       "      <td>Nuit sans eclairage public</td>\n",
       "      <td>988</td>\n",
       "      <td>98803</td>\n",
       "      <td>Hors aglomeration</td>\n",
       "      <td>Normale</td>\n",
       "      <td>RT1 - Col des arabes</td>\n",
       "      <td>-21,6590100000</td>\n",
       "      <td>165,5346000000</td>\n",
       "    </tr>\n",
       "    <tr>\n",
       "      <th>12977</th>\n",
       "      <td>202200055298</td>\n",
       "      <td>80</td>\n",
       "      <td>1</td>\n",
       "      <td>Janvier</td>\n",
       "      <td>2022</td>\n",
       "      <td>Nuit sans eclairage public</td>\n",
       "      <td>2B</td>\n",
       "      <td>2B293</td>\n",
       "      <td>Hors aglomeration</td>\n",
       "      <td>Normale</td>\n",
       "      <td>D71</td>\n",
       "      <td>42,3101650000</td>\n",
       "      <td>9,4785830000</td>\n",
       "    </tr>\n",
       "    <tr>\n",
       "      <th>12978</th>\n",
       "      <td>202200055299</td>\n",
       "      <td>80</td>\n",
       "      <td>1</td>\n",
       "      <td>Janvier</td>\n",
       "      <td>2022</td>\n",
       "      <td>Nuit sans eclairage public</td>\n",
       "      <td>84</td>\n",
       "      <td>84074</td>\n",
       "      <td>Hors aglomeration</td>\n",
       "      <td>Normale</td>\n",
       "      <td>D973</td>\n",
       "      <td>43,7531640000</td>\n",
       "      <td>5,2244760000</td>\n",
       "    </tr>\n",
       "    <tr>\n",
       "      <th>12979</th>\n",
       "      <td>202200055300</td>\n",
       "      <td>80</td>\n",
       "      <td>1</td>\n",
       "      <td>Janvier</td>\n",
       "      <td>2022</td>\n",
       "      <td>Nuit sans eclairage public</td>\n",
       "      <td>74</td>\n",
       "      <td>74001</td>\n",
       "      <td>Hors aglomeration</td>\n",
       "      <td>Autre</td>\n",
       "      <td>D22</td>\n",
       "      <td>46,2825320000</td>\n",
       "      <td>6,7328060000</td>\n",
       "    </tr>\n",
       "  </tbody>\n",
       "</table>\n",
       "<p>12980 rows × 13 columns</p>\n",
       "</div>"
      ],
      "text/plain": [
       "       Identifiant_Accident  Vitesse_Maximale_Autorisee  jour       mois  \\\n",
       "0              201900000024                          50    29   Novembre   \n",
       "1              201900000048                          50    29   Novembre   \n",
       "2              201900000052                          50    29   Novembre   \n",
       "3              201900000082                          80    22  Septembre   \n",
       "4              201900000122                          50    19  Septembre   \n",
       "...                     ...                         ...   ...        ...   \n",
       "12975          202200055292                          50     1    Janvier   \n",
       "12976          202200055295                         110     2    Janvier   \n",
       "12977          202200055298                          80     1    Janvier   \n",
       "12978          202200055299                          80     1    Janvier   \n",
       "12979          202200055300                          80     1    Janvier   \n",
       "\n",
       "       Annee                         Luminosite Departement Commune  \\\n",
       "0       2019  Nuit avec eclairage public allume          91   91477   \n",
       "1       2019                 Crepuscule ou Aube          50   50129   \n",
       "2       2019         Nuit sans eclairage public          38   38179   \n",
       "3       2019         Nuit sans eclairage public          74   74145   \n",
       "4       2019                 Crepuscule ou Aube          91   91687   \n",
       "...      ...                                ...         ...     ...   \n",
       "12975   2022  Nuit avec eclairage public allume          18   18190   \n",
       "12976   2022         Nuit sans eclairage public         988   98803   \n",
       "12977   2022         Nuit sans eclairage public          2B   2B293   \n",
       "12978   2022         Nuit sans eclairage public          84   84074   \n",
       "12979   2022         Nuit sans eclairage public          74   74001   \n",
       "\n",
       "           Agglomeration Connition_Atmospheriques  \\\n",
       "0        En aglomeration             Pluie legere   \n",
       "1        En aglomeration                  Normale   \n",
       "2      Hors aglomeration              Pluie forte   \n",
       "3      Hors aglomeration                  Normale   \n",
       "4        En aglomeration                  Normale   \n",
       "...                  ...                      ...   \n",
       "12975    En aglomeration                  Normale   \n",
       "12976  Hors aglomeration                  Normale   \n",
       "12977  Hors aglomeration                  Normale   \n",
       "12978  Hors aglomeration                  Normale   \n",
       "12979  Hors aglomeration                    Autre   \n",
       "\n",
       "                             adresse         Latitude       Longitude  \n",
       "0               HENRI BARBUSSE (RUE)       48,7188940       2,2606100  \n",
       "1                  CALIGNY (QUAI DE)       49,6398800      -1,6213700  \n",
       "2                 Avenue de la Combe       45,1688800       5,7934900  \n",
       "3             Route de la FrontiÃ¨re       46,2154615       6,2770041  \n",
       "4      GENERAL DE GAULLE (AVENUE DU)       48,6757000       2,3855300  \n",
       "...                              ...              ...             ...  \n",
       "12975             7 Route de Vierzon    47,1352500000    2,1552140000  \n",
       "12976           RT1 - Col des arabes   -21,6590100000  165,5346000000  \n",
       "12977                            D71    42,3101650000    9,4785830000  \n",
       "12978                           D973    43,7531640000    5,2244760000  \n",
       "12979                            D22    46,2825320000    6,7328060000  \n",
       "\n",
       "[12980 rows x 13 columns]"
      ]
     },
     "execution_count": 45,
     "metadata": {},
     "output_type": "execute_result"
    }
   ],
   "source": [
    "df"
   ]
  },
  {
   "cell_type": "markdown",
   "metadata": {},
   "source": [
    "## Réécriture de nos données en CSV :"
   ]
  },
  {
   "cell_type": "code",
   "execution_count": 46,
   "metadata": {},
   "outputs": [],
   "source": [
    "df.to_csv('accidents.csv', index=False, encoding='utf-8')"
   ]
  },
  {
   "cell_type": "markdown",
   "metadata": {},
   "source": []
  }
 ],
 "metadata": {
  "kernelspec": {
   "display_name": "Python 3",
   "language": "python",
   "name": "python3"
  },
  "language_info": {
   "codemirror_mode": {
    "name": "ipython",
    "version": 3
   },
   "file_extension": ".py",
   "mimetype": "text/x-python",
   "name": "python",
   "nbconvert_exporter": "python",
   "pygments_lexer": "ipython3",
   "version": "3.11.9"
  }
 },
 "nbformat": 4,
 "nbformat_minor": 2
}
